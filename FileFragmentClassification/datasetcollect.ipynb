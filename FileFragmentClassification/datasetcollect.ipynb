{
 "cells": [
  {
   "cell_type": "code",
   "execution_count": 1,
   "metadata": {},
   "outputs": [],
   "source": [
    "import os\n",
    "import random\n",
    "import shutil\n",
    "import rarfile\n",
    "from openpyxl import Workbook\n",
    "from openpyxl import load_workbook"
   ]
  },
  {
   "cell_type": "code",
   "execution_count": 2,
   "metadata": {},
   "outputs": [],
   "source": [
    "\n",
    "# Specify the path of the source and target folders\n",
    "source_folder = 'datagzveswf36k'\n",
    "target_folder = '3900test'\n",
    "\n",
    "# Specify the file types (e.g. '.txt', '.pdf', '.docx')\n",
    "file_types = ['.txt','.pdf','.ppt','.png','.gz', '.doc','.csv','.gif','.xls','.swf','.xml','.html','.ps']\n",
    "\n",
    "# For each file type, randomly select 500 files\n",
    "for file_type in file_types:\n",
    "    files = [file for file in os.listdir(source_folder) if file.endswith(file_type)]\n",
    "    files = random.sample(files, 300)\n",
    "    \n",
    "    # Copy the selected files to the target folder\n",
    "    for file in files:\n",
    "        shutil.copy(os.path.join(source_folder, file), target_folder)\n",
    "\n"
   ]
  },
  {
   "cell_type": "code",
   "execution_count": 3,
   "metadata": {},
   "outputs": [],
   "source": [
    "rar_file_path = \"3900test.rar\"\n",
    "\n",
    "rar = rarfile.RarFile(rar_file_path)\n",
    "\n",
    "files = rar.namelist()"
   ]
  },
  {
   "cell_type": "code",
   "execution_count": 4,
   "metadata": {},
   "outputs": [],
   "source": [
    "def saveData(file_name,review):\n",
    "    wb = Workbook()\n",
    "    ws = wb.active\n",
    "    i=1\n",
    "    for count in range(0,3900):\n",
    "        ws['A'+str(i)] = review[count]\n",
    "        i += 1\n",
    "    wb.save((file_name+\".xlsx\"))"
   ]
  },
  {
   "cell_type": "code",
   "execution_count": 5,
   "metadata": {},
   "outputs": [],
   "source": [
    "saveData(\"3900test\",files)"
   ]
  }
 ],
 "metadata": {
  "kernelspec": {
   "display_name": "Mlbase",
   "language": "python",
   "name": "python3"
  },
  "language_info": {
   "codemirror_mode": {
    "name": "ipython",
    "version": 3
   },
   "file_extension": ".py",
   "mimetype": "text/x-python",
   "name": "python",
   "nbconvert_exporter": "python",
   "pygments_lexer": "ipython3",
   "version": "3.9.15 (main, Nov 24 2022, 14:39:17) [MSC v.1916 64 bit (AMD64)]"
  },
  "orig_nbformat": 4,
  "vscode": {
   "interpreter": {
    "hash": "c70345758611b28261ace86a56dc1530a406f4da83e80d17d59b11ce218e72b3"
   }
  }
 },
 "nbformat": 4,
 "nbformat_minor": 2
}
