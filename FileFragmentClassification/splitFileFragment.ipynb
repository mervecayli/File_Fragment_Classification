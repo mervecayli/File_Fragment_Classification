{
 "cells": [
  {
   "cell_type": "code",
   "execution_count": 1,
   "metadata": {},
   "outputs": [],
   "source": [
    "import os\n",
    "import shutil"
   ]
  },
  {
   "cell_type": "code",
   "execution_count": 2,
   "metadata": {},
   "outputs": [],
   "source": [
    "# change file name and chunk start name\n",
    "file_name = \"016908.swf\"\n",
    "chunk_start_name = \"016908.swf_file\"\n",
    "\n",
    "# split file into chunks\n",
    "with open(file_name, \"rb\") as file:\n",
    "    chunk_count = 0\n",
    "    chunk = file.read(512)\n",
    "    while chunk:\n",
    "        chunk_count += 1\n",
    "        chunk_name = f\"{chunk_start_name}{chunk_count}.swf\"\n",
    "        with open(chunk_name, \"wb\") as chunk_file:\n",
    "            chunk_file.write(chunk)\n",
    "        chunk = file.read(512)\n",
    "\n",
    "# move chunks to folder\n",
    "\n",
    "\n",
    "folder_name = \"swf3\"\n",
    "\n",
    "# create folder if it doesn't exist\n",
    "if not os.path.exists(folder_name):\n",
    "    os.makedirs(folder_name)\n",
    "\n",
    "# move chunks to folder\n",
    "for chunk in os.listdir():\n",
    "    if chunk.startswith(chunk_start_name):\n",
    "        shutil.move(chunk, folder_name)"
   ]
  }
 ],
 "metadata": {
  "kernelspec": {
   "display_name": "Mlbase",
   "language": "python",
   "name": "python3"
  },
  "language_info": {
   "codemirror_mode": {
    "name": "ipython",
    "version": 3
   },
   "file_extension": ".py",
   "mimetype": "text/x-python",
   "name": "python",
   "nbconvert_exporter": "python",
   "pygments_lexer": "ipython3",
   "version": "3.9.15"
  },
  "orig_nbformat": 4,
  "vscode": {
   "interpreter": {
    "hash": "c70345758611b28261ace86a56dc1530a406f4da83e80d17d59b11ce218e72b3"
   }
  }
 },
 "nbformat": 4,
 "nbformat_minor": 2
}
